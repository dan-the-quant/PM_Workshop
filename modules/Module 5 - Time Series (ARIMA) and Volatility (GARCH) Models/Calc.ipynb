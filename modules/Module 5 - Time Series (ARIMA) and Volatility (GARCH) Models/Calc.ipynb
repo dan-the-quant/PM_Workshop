{
 "cells": [
  {
   "cell_type": "code",
   "execution_count": 1,
   "id": "67cc7712-e188-4062-a2dd-dfda2fb3162e",
   "metadata": {},
   "outputs": [],
   "source": [
    "import datetime as dt"
   ]
  },
  {
   "cell_type": "code",
   "execution_count": 3,
   "id": "a15c7be4-3410-4f0a-8449-571ca7a36d96",
   "metadata": {},
   "outputs": [],
   "source": [
    "from datetime import date\n",
    "from dateutil.relativedelta import relativedelta\n",
    "\n",
    "six_months = date.today() + relativedelta(months=+6)"
   ]
  },
  {
   "cell_type": "code",
   "execution_count": 7,
   "id": "f89c4195-e0ea-4ebe-bcc2-a4eec8f6833c",
   "metadata": {},
   "outputs": [
    {
     "data": {
      "text/plain": [
       "datetime.date(1998, 3, 31)"
      ]
     },
     "execution_count": 7,
     "metadata": {},
     "output_type": "execute_result"
    }
   ],
   "source": [
    "twentyfive_years = date.today() - relativedelta(months=+12*25)\n",
    "twentyfive_years"
   ]
  },
  {
   "cell_type": "code",
   "execution_count": 9,
   "id": "c47aef0f-e404-4085-8734-1ad65ab94f4a",
   "metadata": {},
   "outputs": [
    {
     "data": {
      "text/plain": [
       "datetime.date(2023, 12, 17)"
      ]
     },
     "execution_count": 9,
     "metadata": {},
     "output_type": "execute_result"
    }
   ],
   "source": [
    "date(1998,12,17) + relativedelta(years=25)"
   ]
  },
  {
   "cell_type": "code",
   "execution_count": null,
   "id": "d075956e-3d39-4895-8e54-a9b4169a4fae",
   "metadata": {},
   "outputs": [],
   "source": []
  }
 ],
 "metadata": {
  "kernelspec": {
   "display_name": "Python 3 (ipykernel)",
   "language": "python",
   "name": "python3"
  },
  "language_info": {
   "codemirror_mode": {
    "name": "ipython",
    "version": 3
   },
   "file_extension": ".py",
   "mimetype": "text/x-python",
   "name": "python",
   "nbconvert_exporter": "python",
   "pygments_lexer": "ipython3",
   "version": "3.10.9"
  }
 },
 "nbformat": 4,
 "nbformat_minor": 5
}
