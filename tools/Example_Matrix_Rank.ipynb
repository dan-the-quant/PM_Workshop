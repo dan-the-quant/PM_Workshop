{
 "cells": [
  {
   "cell_type": "code",
   "execution_count": 2,
   "id": "fbfcedbf-65e0-4078-89cb-c420a2e1f406",
   "metadata": {},
   "outputs": [],
   "source": [
    "import numpy as np"
   ]
  },
  {
   "cell_type": "code",
   "execution_count": 3,
   "id": "aa745fdf-9455-4443-8538-0ae2d0a64226",
   "metadata": {},
   "outputs": [
    {
     "data": {
      "text/plain": [
       "matrix([[1, 1, 0, 1],\n",
       "        [1, 1, 0, 2],\n",
       "        [1, 1, 0, 3],\n",
       "        [1, 0, 1, 4],\n",
       "        [1, 0, 1, 5],\n",
       "        [1, 0, 1, 6]])"
      ]
     },
     "execution_count": 3,
     "metadata": {},
     "output_type": "execute_result"
    }
   ],
   "source": [
    "X = np.matrix([[1,1,1,1,1,1],[1,1,1,0,0,0],[0,0,0,1,1,1],[1,2,3,4,5,6]]).T\n",
    "X"
   ]
  },
  {
   "cell_type": "code",
   "execution_count": 4,
   "id": "341ed9ff-85d7-49e0-bf41-ba42c7608564",
   "metadata": {},
   "outputs": [
    {
     "data": {
      "text/plain": [
       "3"
      ]
     },
     "execution_count": 4,
     "metadata": {},
     "output_type": "execute_result"
    }
   ],
   "source": [
    "np.linalg.matrix_rank(X)"
   ]
  },
  {
   "cell_type": "code",
   "execution_count": 10,
   "id": "7aa6f4a6-61b8-4148-902c-085cec64b8b5",
   "metadata": {},
   "outputs": [
    {
     "data": {
      "text/plain": [
       "matrix([[ 1, -1,  1],\n",
       "        [ 1, -1,  2],\n",
       "        [ 1, -1,  3],\n",
       "        [ 1,  1,  4],\n",
       "        [ 1,  1,  5],\n",
       "        [ 1,  1,  6]])"
      ]
     },
     "execution_count": 10,
     "metadata": {},
     "output_type": "execute_result"
    }
   ],
   "source": [
    "X2 = np.matrix([[1,1,1,1,1,1],[-1,-1,-1,1,1,1],[1,2,3,4,5,6]]).T\n",
    "X2"
   ]
  },
  {
   "cell_type": "code",
   "execution_count": 11,
   "id": "0695542b-e6d3-4a60-8ee4-f417377c786d",
   "metadata": {},
   "outputs": [
    {
     "data": {
      "text/plain": [
       "3"
      ]
     },
     "execution_count": 11,
     "metadata": {},
     "output_type": "execute_result"
    }
   ],
   "source": [
    "np.linalg.matrix_rank(X2)"
   ]
  },
  {
   "cell_type": "code",
   "execution_count": null,
   "id": "64fbee2a-e4af-4f28-be32-7eab5e88f5d3",
   "metadata": {},
   "outputs": [],
   "source": [
    "#          Average Return    Volatility     Sharpe (Information Ratio)    t-stat    |t-stat| > 2     Total Cumulative Return\n",
    "#factor1\n",
    "#factor2"
   ]
  }
 ],
 "metadata": {
  "kernelspec": {
   "display_name": "Python 3 (ipykernel)",
   "language": "python",
   "name": "python3"
  },
  "language_info": {
   "codemirror_mode": {
    "name": "ipython",
    "version": 3
   },
   "file_extension": ".py",
   "mimetype": "text/x-python",
   "name": "python",
   "nbconvert_exporter": "python",
   "pygments_lexer": "ipython3",
   "version": "3.10.9"
  }
 },
 "nbformat": 4,
 "nbformat_minor": 5
}
